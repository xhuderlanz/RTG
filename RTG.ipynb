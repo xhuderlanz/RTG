{
 "cells": [
  {
   "cell_type": "markdown",
   "metadata": {},
   "source": [
    "# Contenedor\n"
   ]
  },
  {
   "cell_type": "code",
   "execution_count": 2,
   "metadata": {},
   "outputs": [],
   "source": [
    "import numpy as np\n",
    "import math as mt\n",
    "from time import sleep\n",
    "from IPython.display import clear_output\n"
   ]
  },
  {
   "cell_type": "code",
   "execution_count": 33,
   "metadata": {},
   "outputs": [
    {
     "name": "stdout",
     "output_type": "stream",
     "text": [
      "Disposición actual\n",
      "[[0 0 0 0 0 0]\n",
      " [0 0 0 0 0 0]\n",
      " [0 0 0 0 0 0]\n",
      " [0 0 0 0 0 0]\n",
      " [0 0 0 0 0 0]\n",
      " [0 0 0 0 0 0]] \n",
      "\n",
      "\n"
     ]
    }
   ],
   "source": [
    "\n",
    "class container:\n",
    "    count_container = 0\n",
    "    RTG = np.zeros((6,6), dtype = np.int8)\n",
    "    print('Disposición actual')\n",
    "    print(RTG, '\\n\\n')\n",
    "    \n",
    "    def __init__(self, pos):   #inicializador\n",
    "        self.pos = pos\n",
    "        container.see_RTG(self.pos, 0)\n",
    "        \n",
    "    \n",
    "    @classmethod\n",
    "    def RTG_write(cls,pos,mode): #Escribe un contenedor en la posición deseada\n",
    "        cls.RTG[pos[0]][pos[1]] = 1 \n",
    "        if mode == 0:\n",
    "            container.print_RTG()\n",
    "        \n",
    "    @classmethod\n",
    "    def print_RTG(cls):\n",
    "        clear_output()\n",
    "        print('Disposición actual\\n', cls.RTG)  \n",
    "        sleep(1.5)\n",
    "    \n",
    "    @classmethod\n",
    "    def see_RTG(cls, pos, move): #Revisa la disponibilidad del contenedor\n",
    "        mtx = cls.RTG\n",
    "        (y, x) = mtx.shape\n",
    "        aux_in, aux_out= 1, 0\n",
    "        possible = False\n",
    "        mode = 0\n",
    "        \n",
    "        while aux_in != aux_out:  \n",
    "            \n",
    "            if move == 0:\n",
    "                if pos[0] == 5 and mtx[pos[0]][pos[1]] == 0: #si la posición de abajo está vacia, se crea contenedor\n",
    "                    aux_out = aux_in\n",
    "                    possible = True \n",
    "                    \n",
    "                elif mtx[pos[0]][pos[1]] == 0 and mtx[pos[0]+1][pos[1]] == 1: \n",
    "                    aux_out = aux_in\n",
    "                    possible = True                \n",
    "                        \n",
    "                elif mtx[pos[0]][pos[1]] == 1 or mtx[pos[0]+1][pos[1]] == 0:\n",
    "                    aux_out = aux_in\n",
    "                    print(\"Posición inválida\")\n",
    "                    print('Disposición actual')\n",
    "                    print(cls.RTG, '\\n\\n')\n",
    "            \n",
    "            elif move == 1:\n",
    "                \n",
    "                if mtx[pos[0]-1][pos[1]] == 0:\n",
    "                    move = 0\n",
    "                    mode = 1\n",
    "                else:\n",
    "                    print('No es posible mover')\n",
    "                    possible = False\n",
    "                    aux_out = aux_in\n",
    "        \n",
    "        if move == 0 and possible == True:\n",
    "            container.RTG_write(pos, mode)\n",
    "        \n",
    "        return possible        \n",
    "    \n",
    "    def move(self, pos):\n",
    "        pos_in = self.pos\n",
    "        pos_out = pos\n",
    "        print('Moviendo')\n",
    "        possible = container.see_RTG(pos, 1)\n",
    "        \n",
    "        if possible == True:\n",
    "            self.RTG[pos_in[0]][pos_in[1]] = 0\n",
    "            container.RTG_write(pos_out, mode = 1) \n",
    "            container.print_RTG()\n",
    "    \n",
    "    @classmethod\n",
    "    def add_container(cls):\n",
    "        cls.count_container += 1\n",
    "\n",
    "    @classmethod\n",
    "    def clear_RTG(cls):\n",
    "        cls.RTG = np.zeros((6,6), dtype = np.int8)\n",
    "        "
   ]
  },
  {
   "cell_type": "code",
   "execution_count": null,
   "metadata": {},
   "outputs": [],
   "source": [
    "  # @classmethod #Parece tetris\n",
    "    # def see_RTG(cls, i, pos): #Revisa la disponibilidad del contenedor\n",
    "    #     mtx = cls.RTG\n",
    "    #     (y, x) = mtx.shape\n",
    "    #     aux_in, aux_out= 1, 0\n",
    "        \n",
    "    #     while aux_in != aux_out:  \n",
    "    #         if i == 5 and mtx[i][pos[1]] == 0: #si la posición de abajo está vacia, se crea contenedor\n",
    "    #             aux_out = aux_in\n",
    "    #             print('Creando container en posición: ', i, pos[1])\n",
    "    #             container.add_container()\n",
    "    #             container.RTG_write(i, pos)\n",
    "                \n",
    "                \n",
    "    #         elif mtx[i][pos[1]] == 0 and mtx[i+1][pos[1]] == 1: \n",
    "    #                 aux_out = aux_in\n",
    "    #                 print('Creando container en posición: ', i, pos[1])\n",
    "    #                 container.add_container()\n",
    "    #                 container.RTG_write(i,pos)\n",
    "                    \n",
    "    #         elif i > y or mtx[i][pos[1]] == 1:\n",
    "    #             aux_out = aux_in\n",
    "    #             print(\"Posición inválida\")\n",
    "    #             print('Disposición actual')\n",
    "    #             print(cls.RTG, '\\n\\n')\n",
    "    #         i -= 1 \n",
    "            "
   ]
  },
  {
   "cell_type": "code",
   "execution_count": 34,
   "metadata": {},
   "outputs": [
    {
     "name": "stdout",
     "output_type": "stream",
     "text": [
      "Disposición actual\n",
      " [[0 0 0 0 0 0]\n",
      " [0 0 0 0 0 0]\n",
      " [0 0 0 0 0 0]\n",
      " [0 0 0 0 0 0]\n",
      " [0 1 0 0 0 0]\n",
      " [1 1 0 0 1 0]]\n"
     ]
    }
   ],
   "source": [
    "container.clear_RTG()\n",
    "c1 = container([5,0])\n",
    "c2 = container([5,1])\n",
    "c3 = container([4,1])\n",
    "c1.move([5,4])\n"
   ]
  },
  {
   "cell_type": "code",
   "execution_count": null,
   "metadata": {},
   "outputs": [],
   "source": []
  }
 ],
 "metadata": {
  "kernelspec": {
   "display_name": "Python 3.7.6 ('base')",
   "language": "python",
   "name": "python3"
  },
  "language_info": {
   "codemirror_mode": {
    "name": "ipython",
    "version": 3
   },
   "file_extension": ".py",
   "mimetype": "text/x-python",
   "name": "python",
   "nbconvert_exporter": "python",
   "pygments_lexer": "ipython3",
   "version": "3.7.6"
  },
  "orig_nbformat": 4,
  "vscode": {
   "interpreter": {
    "hash": "ad2bdc8ecc057115af97d19610ffacc2b4e99fae6737bb82f5d7fb13d2f2c186"
   }
  }
 },
 "nbformat": 4,
 "nbformat_minor": 2
}
