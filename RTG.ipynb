{
 "cells": [
  {
   "cell_type": "markdown",
   "metadata": {},
   "source": [
    "# COntenedor\n"
   ]
  },
  {
   "cell_type": "code",
   "execution_count": 14,
   "metadata": {},
   "outputs": [],
   "source": [
    "import numpy as np\n",
    "import math as mt\n",
    "\n",
    "from time import sleep\n",
    "from IPython.display import clear_output\n",
    "import string\n"
   ]
  },
  {
   "cell_type": "code",
   "execution_count": 128,
   "metadata": {},
   "outputs": [
    {
     "name": "stdout",
     "output_type": "stream",
     "text": [
      "Disposición actual\n",
      "[[0 0 0 0 0 0]\n",
      " [0 0 0 0 0 0]\n",
      " [0 0 0 0 0 0]\n",
      " [0 0 0 0 0 0]\n",
      " [0 0 0 0 0 0]\n",
      " [0 0 0 0 0 0]] \n",
      "\n",
      "\n"
     ]
    }
   ],
   "source": [
    "\n",
    "class container:\n",
    "    count_container = 0\n",
    "    RTG = np.zeros((6,6), dtype = np.int8)\n",
    "    RTG_Names =  [['' for i in range(6)] for j in range(6)]\n",
    "    print('Disposición actual')\n",
    "    print(RTG, '\\n\\n')\n",
    "    \n",
    "    def __init__(self, name, pos):   #inicializador\n",
    "        self.name = name\n",
    "        self.pos = pos\n",
    "        self.see_RTG(self.pos, 0)\n",
    "        \n",
    "    def write_name(self, pos):\n",
    "        self.RTG_Names[pos[0]][pos[1]] = self.name\n",
    "    \n",
    "        \n",
    "    @classmethod\n",
    "    def print_name(cls):\n",
    "        print(cls.RTG_Names)\n",
    "    \n",
    "    \n",
    "    def RTG_write(self,pos,mode): #Escribe un contenedor en la posición deseada\n",
    "        self.RTG[pos[0]][pos[1]] = 1\n",
    "        self.pos = pos \n",
    "        self.write_name(pos)\n",
    "        if mode == 0:\n",
    "            self.print_RTG()\n",
    "        \n",
    "    @classmethod\n",
    "    def print_RTG(cls):\n",
    "        clear_output()\n",
    "        print('Disposición actual\\n', cls.RTG)  \n",
    "        sleep(1)\n",
    "    \n",
    "\n",
    "    def see_RTG(self, pos, move): #Revisa la disponibilidad del contenedor\n",
    "        mtx = self.RTG\n",
    "        aux_in, aux_out= 1, 0\n",
    "        possible = False\n",
    "        mode = 0\n",
    "        \n",
    "        if move == 1:\n",
    "            move = 0\n",
    "            mode = 1\n",
    "        \n",
    "        while aux_in != aux_out:  \n",
    "            \n",
    "            if move == 0:\n",
    "                if pos[0] == 5 and mtx[pos[0]][pos[1]] == 0: #si la posición de abajo está vacia, se crea contenedor\n",
    "                    aux_out = aux_in\n",
    "                    possible = True \n",
    "                    \n",
    "                elif mtx[pos[0]][pos[1]] == 0 and mtx[pos[0]+1][pos[1]] == 1: \n",
    "                    aux_out = aux_in\n",
    "                    possible = True                \n",
    "                        \n",
    "                elif mtx[pos[0]][pos[1]] == 1 or mtx[pos[0]+1][pos[1]] == 0:\n",
    "                    aux_out = aux_in\n",
    "                    clear_output()\n",
    "                    print(\"Posición inválida\")\n",
    "                    print('Disposición actual')\n",
    "                    print(self.RTG, '\\n\\n')\n",
    "        \n",
    "        if move == 0 and possible == True:\n",
    "            self.RTG_write(pos, mode)\n",
    "            \n",
    "        \n",
    "        return possible        \n",
    "    \n",
    "    def move(self, pos):\n",
    "        mtx = self.RTG\n",
    "        pos_in = self.pos\n",
    "        pos_out = pos\n",
    "        print('Moviendo')\n",
    "        \n",
    "        if mtx[pos_in[0]-1][pos_in[1]] == 0:\n",
    "            possible = self.see_RTG(pos, 1)\n",
    "        else:\n",
    "            print('No es posible mover')\n",
    "            sleep(1.5)\n",
    "            clear_output()\n",
    "            print('Disposición actual\\n', mtx)  \n",
    "            possible = False\n",
    "        \n",
    "        if possible == True:\n",
    "            self.RTG[pos_in[0]][pos_in[1]] = 0\n",
    "            self.RTG_write(pos_out, mode = 1) \n",
    "            self.print_RTG()\n",
    "    \n",
    "    @classmethod\n",
    "    def add_container(cls):\n",
    "        cls.count_container += 1\n",
    "\n",
    "    @classmethod\n",
    "    def clear_RTG(cls):\n",
    "        cls.RTG = np.zeros((6,6), dtype = np.int8)\n",
    "        "
   ]
  },
  {
   "cell_type": "code",
   "execution_count": 129,
   "metadata": {},
   "outputs": [
    {
     "name": "stdout",
     "output_type": "stream",
     "text": [
      "Disposición actual\n",
      " [[0 0 0 0 0 0]\n",
      " [0 0 0 0 0 0]\n",
      " [0 0 0 0 0 0]\n",
      " [0 0 0 0 0 0]\n",
      " [0 0 0 0 1 0]\n",
      " [1 1 1 1 1 0]]\n"
     ]
    }
   ],
   "source": [
    "names = list(string.ascii_lowercase)\n",
    "cont = []\n",
    "y = 0\n",
    "container.clear_RTG()\n",
    "\n",
    "for i in range(1):\n",
    "    for j in range(6):\n",
    "        cont.append( container(names[y], [abs(i-5), abs(j)]) )\n",
    "        y += 1\n",
    "\n",
    "cont[5].move([4,1])\n",
    "cont[5].move([4,3])\n",
    "cont[5].move([4,4])\n",
    "cont[4].move([4,2])\n",
    "# c1 = container([5,0])\n",
    "# c2 = container([5,1])\n",
    "# c3 = container([4,1])\n",
    "# c2.move([5,4])\n"
   ]
  },
  {
   "cell_type": "markdown",
   "metadata": {},
   "source": [
    "cont[7].\n",
    "\n",
    "#print(container.print_name())"
   ]
  },
  {
   "cell_type": "code",
   "execution_count": 118,
   "metadata": {},
   "outputs": [
    {
     "name": "stdout",
     "output_type": "stream",
     "text": [
      "[[35 34 33 32 31 30]\n",
      " [29 28 27 26 25 24]\n",
      " [23 22 21 20 19 18]\n",
      " [17 16 15 14 13 12]\n",
      " [11 10  9  8  7  6]\n",
      " [ 5  4  3  2  1  0]]\n"
     ]
    }
   ],
   "source": [
    "\n",
    "arr =  np.arange(35, -1, -1)\n",
    "arr = arr.reshape(6, 6)\n",
    "\n",
    "print(arr)\n",
    "\n",
    "        \n"
   ]
  },
  {
   "cell_type": "markdown",
   "metadata": {},
   "source": []
  }
 ],
 "metadata": {
  "kernelspec": {
   "display_name": "Python 3.7.6 ('base')",
   "language": "python",
   "name": "python3"
  },
  "language_info": {
   "codemirror_mode": {
    "name": "ipython",
    "version": 3
   },
   "file_extension": ".py",
   "mimetype": "text/x-python",
   "name": "python",
   "nbconvert_exporter": "python",
   "pygments_lexer": "ipython3",
   "version": "3.7.6"
  },
  "orig_nbformat": 4,
  "vscode": {
   "interpreter": {
    "hash": "ad2bdc8ecc057115af97d19610ffacc2b4e99fae6737bb82f5d7fb13d2f2c186"
   }
  }
 },
 "nbformat": 4,
 "nbformat_minor": 2
}
